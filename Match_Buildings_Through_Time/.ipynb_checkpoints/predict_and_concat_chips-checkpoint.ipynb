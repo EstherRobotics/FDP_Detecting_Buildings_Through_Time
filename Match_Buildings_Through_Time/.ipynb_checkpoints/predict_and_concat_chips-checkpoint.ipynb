{
 "cells": [
  {
   "cell_type": "markdown",
   "id": "fe11d257",
   "metadata": {},
   "source": [
    "# Procesar máscaras de cada chips y concatenar en imágenes de tamaño original"
   ]
  },
  {
   "cell_type": "markdown",
   "id": "a51f770d",
   "metadata": {},
   "source": [
    "## Importar librerías y cargar variables"
   ]
  },
  {
   "cell_type": "code",
   "execution_count": 1,
   "id": "669b5096",
   "metadata": {},
   "outputs": [],
   "source": [
    "import os\n",
    "import random\n",
    "import pandas as pd\n",
    "import numpy as np\n",
    "import matplotlib.pyplot as plt\n",
    "plt.style.use(\"ggplot\")\n",
    "\n",
    "from tqdm import tqdm\n",
    "from itertools import chain\n",
    "from skimage.io import imread, imshow, concatenate_images\n",
    "from skimage.transform import resize\n",
    "from skimage.morphology import label\n",
    "from sklearn.model_selection import train_test_split\n",
    "\n",
    "import tensorflow as tf\n",
    "\n",
    "from keras.models import Model, load_model\n",
    "from keras.preprocessing.image import ImageDataGenerator, array_to_img, img_to_array, load_img\n",
    "import keras\n",
    "\n",
    "import cv2\n"
   ]
  },
  {
   "cell_type": "code",
   "execution_count": 5,
   "id": "6db30593",
   "metadata": {},
   "outputs": [],
   "source": [
    "# Variables\n",
    "valueSize = 128\n",
    "im_width = valueSize\n",
    "im_height = valueSize\n",
    "image_size = valueSize\n",
    "border = 5"
   ]
  },
  {
   "cell_type": "code",
   "execution_count": 6,
   "id": "ec221ec4",
   "metadata": {},
   "outputs": [],
   "source": [
    "# Cargar modelo\n",
    "model_path = 'C:\\\\Users\\\\Usuario\\\\Desktop\\\\Models\\\\model_RESUNET2_1000epochs_128M_12bat_black_c_bcedicevales.h5'\n",
    "model = load_model(model_path, compile = False) "
   ]
  },
  {
   "cell_type": "code",
   "execution_count": 8,
   "id": "2a9365c6",
   "metadata": {},
   "outputs": [
    {
     "data": {
      "text/plain": [
       "'C:\\\\Users\\\\Usuario\\\\Desktop\\\\TFG_DATA\\\\my_chips_masked\\\\my_chips_128_masked\\\\L15-1617E-1207N_6468_3360_13\\\\chips_128\\\\2018_02\\\\global_monthly_2018_02_mosaic_L15-1617E-1207N_6468_3360_13_0.jpg'"
      ]
     },
     "execution_count": 8,
     "metadata": {},
     "output_type": "execute_result"
    }
   ],
   "source": [
    "# Leer csv con la ruta de las imágenes de test\n",
    "df_valid_path =  \"C:\\\\Users\\\\Usuario\\\\Desktop\\\\csvs\\\\csvs_train\\\\val_all_\" + str(valueSize) + '.csv'\n",
    "df_valid = pd.read_csv(df_valid_path)\n",
    "df_valid['0'][0]"
   ]
  },
  {
   "cell_type": "code",
   "execution_count": 7,
   "id": "d94e9c2d",
   "metadata": {},
   "outputs": [],
   "source": [
    "# Función para aplicar un reshape a las imágenes para poder hacer la predicción \n",
    "IMAGE_CHANNEL3 = 3\n",
    "def prepare3(img_aux):\n",
    "  return img_aux.reshape(-1, valueSize, valueSize, IMAGE_CHANNEL3)"
   ]
  },
  {
   "cell_type": "markdown",
   "id": "4b1c3ea5",
   "metadata": {},
   "source": [
    "## Realizar predicción de todos los chips de una carpeta de test "
   ]
  },
  {
   "cell_type": "markdown",
   "id": "f20e0ad5",
   "metadata": {},
   "source": [
    "Es decir de un lugar únicamente en distintos momentos de tiempo"
   ]
  },
  {
   "cell_type": "code",
   "execution_count": null,
   "id": "c6831d11",
   "metadata": {},
   "outputs": [],
   "source": [
    "imgs_valid = df_valid['0']\n",
    "to_predict = []\n",
    "pred_val_r = []\n",
    "n = 0\n",
    "count = 0\n",
    "folderPrev = \"\"\n",
    "new_names = []\n",
    "\n",
    "# Se elige una carpeta de test y se realizan las predicciones para todas las imágenes contenidas\n",
    "# Se elige la carpeta con \"count\"\n",
    "for name_img in tqdm(imgs_valid):\n",
    "    \n",
    "    # Obtener carpeta de las imagen y comprobar si es distinta a la carpeta anterior (imagen de zona distinta)\n",
    "    folder = name_img.split('\\\\',12)[7]\n",
    "    if(folder!= folderPrev):\n",
    "      folderPrev=folder      \n",
    "      count = count+1\n",
    "\n",
    "    # Cuando la carpeta actual es la 5  \n",
    "    if(count>5):\n",
    "      # Realizar predicción de todas las imágenes de la carpeta 5 y guardarlas   \n",
    "      new_names.append(name_img)\n",
    "      n=n+1\n",
    "      img_aux = (img_to_array(load_img(name_img))) / 255  \n",
    "      to_predict.append(prepare3(img_aux))\n",
    "      p = model.predict(prepare3(img_aux))\n",
    "      pred_val_r.append(p)\n",
    "      #break'''    \n",
    "\n",
    "print(n)"
   ]
  },
  {
   "cell_type": "code",
   "execution_count": null,
   "id": "bee9e6cc",
   "metadata": {},
   "outputs": [],
   "source": [
    "lista_csv = []\n",
    "lista_names = []\n",
    "\n",
    "# Para todas las imágenes procesadas de la carpeta anterior, crear nuevo directorio y guardar \n",
    "for i, img in enumerate(pred_val_r):\n",
    "    \n",
    "    # Ajustar nombre para guardar  \n",
    "    splitted = new_names[i].split('\\\\')\n",
    "    lista_names.append(splitted[-1])\n",
    "    #print(splitted)\n",
    "    splitted.pop(4)\n",
    "    splitted.pop(4)\n",
    "    splitted.pop(4)\n",
    "    splitted.pop(5)\n",
    "    \n",
    "    splitted.insert(4,'predicted_images\\\\RESUNET2_1000epochs_128M_12bat_black_c_bcedicevales2')\n",
    "    splitted.insert(6,'val_' + str(valueSize))\n",
    "    \n",
    "    #print(splitted)\n",
    "    save_path_joined = '\\\\'.join(splitted)\n",
    "    lista_csv.append(save_path_joined) # Se añade la ruta del chip actual donde se va a guardar \n",
    "    #print(save_path_joined)\n",
    "    #print()\n",
    "    \n",
    "    splitted.pop()\n",
    "    save_folder = '\\\\'.join(splitted)\n",
    "    \n",
    "    # Cambiar el shape de la imagen y umbralizar con un porcentaje del 70%\n",
    "    img = img.reshape(valueSize,valueSize,1)\n",
    "    img = (img > 0.7).astype(np.uint8) \n",
    "    \n",
    "    # Crear nuevo directorio y guardar imagen predicha umbralizada\n",
    "    os.makedirs(save_folder, exist_ok = True)\n",
    "    cv2.imwrite(save_path_joined, img)"
   ]
  },
  {
   "cell_type": "code",
   "execution_count": null,
   "id": "c81ee1da",
   "metadata": {},
   "outputs": [],
   "source": [
    "# Guardar la ruta a las imágenes predichas en un csv \n",
    "df1 = pd.DataFrame(lista_csv)\n",
    "print(lista_csv[0])\n",
    "print(df1)\n",
    "\n",
    "df1.to_csv('C:\\\\Users\\\\Usuario\\\\Desktop\\\\csvs_pred\\\\RESUNET2_1000epochs_128M_12bat_black_c_bcedicevales2.csv', index=False)"
   ]
  },
  {
   "cell_type": "markdown",
   "id": "e8f11da2",
   "metadata": {},
   "source": [
    "## Organizar orden de lectura de los chips "
   ]
  },
  {
   "cell_type": "markdown",
   "id": "a16f3f96",
   "metadata": {},
   "source": [
    "Esto se hizo pensando en procesar varias carpetas de chips a la vez pero al ser solo una con distintos meses realmente no haría falta tanto procesamiento. "
   ]
  },
  {
   "cell_type": "code",
   "execution_count": null,
   "id": "02deeda4",
   "metadata": {},
   "outputs": [],
   "source": [
    "print(lista_csv)"
   ]
  },
  {
   "cell_type": "code",
   "execution_count": null,
   "id": "71ff70df",
   "metadata": {},
   "outputs": [],
   "source": [
    "# Obtener mes,ombres y carpetas\n",
    "lista_concat_o = []\n",
    "lista_concat_o.append([])\n",
    "folders = []\n",
    "names = []\n",
    "\n",
    "prevSplitted = lista_csv[0].split('\\\\')[6]\n",
    "prevMonth = lista_csv[0].split('\\\\')[8] \n",
    "names.append(lista_csv[0].split('\\\\')[-1])\n",
    "folders.append(prevSplitted)"
   ]
  },
  {
   "cell_type": "code",
   "execution_count": null,
   "id": "bbda6e63",
   "metadata": {},
   "outputs": [],
   "source": [
    "l = 0\n",
    "\n",
    "# Organizar chips procesados por cada mes de las imágenes del mismo lugar \n",
    "# Para cada chip procesado\n",
    "for id_ in lista_csv:\n",
    "    splitted = id_.split('\\\\')\n",
    "    \n",
    "    # Si se ha cambiado de carpeta de chips \n",
    "    if(splitted[6]!= prevSplitted):\n",
    "        l=l+1\n",
    "        lista_concat_o.append([])\n",
    "        prevSplitted = splitted[6]\n",
    "        folders.append(prevSplitted)\n",
    "    \n",
    "    # Comprobar si corresponde al mismo mes o a otro mes diferente de la misma imagen \n",
    "    if(splitted[8] != prevMonth):\n",
    "        names.append(splitted[-1]) # Guardar nombre de la imagen según el mes (sin identificador del chip) \n",
    "        prevMonth = splitted[8]    # Mes actual \n",
    "\n",
    "    lista_concat_o[l].append('\\\\'.join(splitted))  # Guardar ruta de la imagen\n",
    "\n",
    "print(lista_concat_o[0])"
   ]
  },
  {
   "cell_type": "code",
   "execution_count": null,
   "id": "ed17aad2",
   "metadata": {},
   "outputs": [],
   "source": [
    "# Cargar imágenes chips en orden \n",
    "chips_pred_test_t = []\n",
    "\n",
    "# Para cada conjunto de imágenes de lista_concat_o\n",
    "for l in range(len(lista_concat_o)):\n",
    "    # Para cada chip \n",
    "    for id_ in lista_concat_o[l]:\n",
    "        # Cargar y guardar en chips_pred_test_t\n",
    "        img = (img_to_array(load_img(id_)))   \n",
    "        chips_pred_test_t.append(img)"
   ]
  },
  {
   "cell_type": "markdown",
   "id": "a942d320",
   "metadata": {},
   "source": [
    "## Concatenar todos los chips predichos en cada máscara de tamaño original"
   ]
  },
  {
   "cell_type": "code",
   "execution_count": null,
   "id": "842fe92f",
   "metadata": {},
   "outputs": [],
   "source": [
    "# Concatenación de chips de tamaño 256\n",
    "'''concat_pred_img_t = []\n",
    "concat_names = []\n",
    "cont = 0\n",
    "\n",
    "# Para cada conjunto de imágenes de chips_pred_test_t, de 16 chips en 16 para formar las imágenes predichas de cada\n",
    "# mes en una sola imagen \n",
    "for k in tqdm(range(0,len(chips_pred_test_t),16)):\n",
    "    \n",
    "  concat_h1_c = cv2.hconcat([chips_pred_test_t[k+0], chips_pred_test_t[k+1], chips_pred_test_t[k+2], chips_pred_test_t[k+3]])\n",
    "  concat_h2_c = cv2.hconcat([chips_pred_test_t[k+4], chips_pred_test_t[k+5], chips_pred_test_t[k+6], chips_pred_test_t[k+7]])\n",
    "  concat_h3_c = cv2.hconcat([chips_pred_test_t[k+8], chips_pred_test_t[k+9], chips_pred_test_t[k+10], chips_pred_test_t[k+11]])\n",
    "  concat_h4_c = cv2.hconcat([chips_pred_test_t[k+12], chips_pred_test_t[k+13], chips_pred_test_t[k+14], chips_pred_test_t[k+15]])\n",
    "\n",
    "  concat_c = cv2.vconcat([concat_h1_c, concat_h2_c, concat_h3_c, concat_h4_c])\n",
    "  concat_pred_img_t.append(concat_c) \n",
    "'''"
   ]
  },
  {
   "cell_type": "code",
   "execution_count": null,
   "id": "16d673d4",
   "metadata": {},
   "outputs": [],
   "source": [
    "# Concatenación de chips de tamaño 128\n",
    "concat_pred_img_t = []\n",
    "concat_names = []\n",
    "cont = 0\n",
    "\n",
    "\n",
    "# Para cada conjunto de imágenes de chips_pred_test_t, de 64 chips en 64 para formar las imágenes predichas de cada\n",
    "# mes en una sola imagen \n",
    "for k in tqdm(range(0,len(chips_pred_test_t),64)):\n",
    "    \n",
    "  concat_h1_c = cv2.hconcat([chips_pred_test_t[k+0],  chips_pred_test_t[k+1],  chips_pred_test_t[k+2],  chips_pred_test_t[k+3],   chips_pred_test_t[k+4],  chips_pred_test_t[k+5],  chips_pred_test_t[k+6],  chips_pred_test_t[k+7]])\n",
    "  concat_h2_c = cv2.hconcat([chips_pred_test_t[k+8],  chips_pred_test_t[k+9],  chips_pred_test_t[k+10], chips_pred_test_t[k+11], chips_pred_test_t[k+12], chips_pred_test_t[k+13], chips_pred_test_t[k+14], chips_pred_test_t[k+15]])\n",
    "  concat_h3_c = cv2.hconcat([chips_pred_test_t[k+16], chips_pred_test_t[k+17], chips_pred_test_t[k+18], chips_pred_test_t[k+19], chips_pred_test_t[k+20], chips_pred_test_t[k+21], chips_pred_test_t[k+22], chips_pred_test_t[k+23]])\n",
    "  concat_h4_c = cv2.hconcat([chips_pred_test_t[k+24], chips_pred_test_t[k+25], chips_pred_test_t[k+26], chips_pred_test_t[k+27], chips_pred_test_t[k+28], chips_pred_test_t[k+29], chips_pred_test_t[k+30], chips_pred_test_t[k+31]])\n",
    "  concat_h5_c = cv2.hconcat([chips_pred_test_t[k+32],  chips_pred_test_t[k+33],  chips_pred_test_t[k+34],  chips_pred_test_t[k+35],   chips_pred_test_t[k+36],  chips_pred_test_t[k+37],  chips_pred_test_t[k+38],  chips_pred_test_t[k+39]])\n",
    "  concat_h6_c = cv2.hconcat([chips_pred_test_t[k+40],  chips_pred_test_t[k+41],  chips_pred_test_t[k+42], chips_pred_test_t[k+43], chips_pred_test_t[k+44], chips_pred_test_t[k+45], chips_pred_test_t[k+46], chips_pred_test_t[k+47]])\n",
    "  concat_h7_c = cv2.hconcat([chips_pred_test_t[k+48], chips_pred_test_t[k+49], chips_pred_test_t[k+50], chips_pred_test_t[k+51], chips_pred_test_t[k+52], chips_pred_test_t[k+53], chips_pred_test_t[k+54], chips_pred_test_t[k+55]])\n",
    "  concat_h8_c = cv2.hconcat([chips_pred_test_t[k+56], chips_pred_test_t[k+57], chips_pred_test_t[k+58], chips_pred_test_t[k+59], chips_pred_test_t[k+60], chips_pred_test_t[k+61], chips_pred_test_t[k+62], chips_pred_test_t[k+63]])\n",
    "\n",
    "    \n",
    "  concat_c = cv2.vconcat([concat_h1_c, concat_h2_c, concat_h3_c, concat_h4_c, concat_h5_c, concat_h6_c, concat_h7_c, concat_h8_c])\n",
    "  concat_pred_img_t.append(concat_c) "
   ]
  },
  {
   "cell_type": "code",
   "execution_count": null,
   "id": "609fb3da",
   "metadata": {},
   "outputs": [],
   "source": [
    "#plt.figure(figsize= (10,10))\n",
    "#plt.imshow(concat_pred_img_t[0].squeeze(), vmin=0, vmax=1)"
   ]
  },
  {
   "cell_type": "markdown",
   "id": "930a4821",
   "metadata": {},
   "source": [
    "## Guardar concatenaciones y rutas"
   ]
  },
  {
   "cell_type": "code",
   "execution_count": null,
   "id": "84989608",
   "metadata": {},
   "outputs": [],
   "source": [
    "# Guardar los chips concatenados en las imágenes de tamaño original \n",
    "lista_concat_save = []\n",
    "save_path = \"C:\\\\Users\\\\Usuario\\\\Desktop\\\\predicted_images\\\\concat_RESUNET2_1000epochs_128M_12bat_black_c_bcedicevales2\\\\\"\n",
    "print(names)\n",
    "for i, name_img in enumerate(names):\n",
    "    \n",
    "    save_path_joined = save_path + name_img    \n",
    "    lista_concat_save.append(save_path_joined)\n",
    "        \n",
    "    os.makedirs(save_path, exist_ok = True)\n",
    "    cv2.imwrite(save_path_joined, concat_pred_img_t[i])"
   ]
  },
  {
   "cell_type": "code",
   "execution_count": null,
   "id": "67258f2f",
   "metadata": {},
   "outputs": [],
   "source": [
    "# Guardar csv con la ruta a las imágenes concatenadas\n",
    "df1 = pd.DataFrame(lista_concat_save)\n",
    "#df2 = pd.DataFrame({'imgs': X_valid, 'masks': y_valid})\n",
    "#print(df1)\n",
    "#print(df2)\n",
    "#print(n)\n",
    "\n",
    "df1.to_csv('C:\\\\Users\\\\Usuario\\\\Desktop\\\\csvs_pred\\\\concat_model_RESUNET2_1000epochs_128M_12bat_black_c_bcedicevales2.csv', index=False)\n",
    "#df2.to_csv('C:\\\\Users\\\\Usuario\\\\Desktop\\\\val_512.csv', index=False)"
   ]
  }
 ],
 "metadata": {
  "kernelspec": {
   "display_name": "Python 3",
   "language": "python",
   "name": "python3"
  },
  "language_info": {
   "codemirror_mode": {
    "name": "ipython",
    "version": 3
   },
   "file_extension": ".py",
   "mimetype": "text/x-python",
   "name": "python",
   "nbconvert_exporter": "python",
   "pygments_lexer": "ipython3",
   "version": "3.6.15"
  }
 },
 "nbformat": 4,
 "nbformat_minor": 5
}
