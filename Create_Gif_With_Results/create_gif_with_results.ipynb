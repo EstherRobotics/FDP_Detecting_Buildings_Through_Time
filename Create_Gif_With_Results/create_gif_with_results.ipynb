{
 "cells": [
  {
   "cell_type": "markdown",
   "id": "b0142217",
   "metadata": {},
   "source": [
    "# Crear gif a partir de un conjunto de imágenes"
   ]
  },
  {
   "cell_type": "code",
   "execution_count": 20,
   "id": "5797db4b",
   "metadata": {},
   "outputs": [],
   "source": [
    "import imageio\n",
    "import glob\n",
    "import cv2\n",
    "from PIL import ImageFont, ImageDraw, Image\n",
    "import os\n",
    "import numpy as np"
   ]
  },
  {
   "cell_type": "code",
   "execution_count": 21,
   "id": "75c1fd5d",
   "metadata": {},
   "outputs": [],
   "source": [
    "# Función para crear el gif\n",
    "def create_gif(imagename_list, gif_name, duration=1):\n",
    "    \"\"\"Generar animación GIF,\n",
    "         imagename_list: lista de nombres de imágenes;\n",
    "         git_name: el gif generado;\n",
    "         duración: tiempo de intervalo, en segundos.\n",
    "    \"\"\"\n",
    "    frames = []\n",
    "    size = 1024 # Tamaño de la imagen \n",
    "    \n",
    "    # Hacer secuencia de imágenes\n",
    "    for imagename in imagename_list:\n",
    "        image = Image.open(imagename)\n",
    "        frames.append(np.array(image))\n",
    "\n",
    "    # Generar gif, marcos es una lista de imágenes, la duración es el intervalo de tiempo\n",
    "    imageio.mimsave(gif_name, frames, 'GIF', duration=duration)\n",
    "    print(\"producción de imagen gif completada\")"
   ]
  },
  {
   "cell_type": "code",
   "execution_count": 46,
   "id": "92db904d",
   "metadata": {},
   "outputs": [],
   "source": [
    "# Obtener imágenes que formarán el gif \n",
    "filename_list = []\n",
    "\n",
    "trans_path = 'C:\\\\Users\\\\Usuario\\\\Desktop\\\\transition\\\\res_trans_1024_test\\\\trans_10\\\\trans_256_1\\\\'\n",
    "content_trans = os.listdir(trans_path)\n",
    "\n",
    "for img_name in content_trans:\n",
    "    img_name = img_name.split('.')[0]\n",
    "    filename_list.append(trans_path + img_name)"
   ]
  },
  {
   "cell_type": "code",
   "execution_count": 47,
   "id": "f535adfe",
   "metadata": {},
   "outputs": [
    {
     "data": {
      "text/plain": [
       "['C:\\\\Users\\\\Usuario\\\\Desktop\\\\transition\\\\res_trans_1024_test\\\\trans_10\\\\trans_256_1\\\\trans_256_res_id_0',\n",
       " 'C:\\\\Users\\\\Usuario\\\\Desktop\\\\transition\\\\res_trans_1024_test\\\\trans_10\\\\trans_256_1\\\\trans_256_res_id_1',\n",
       " 'C:\\\\Users\\\\Usuario\\\\Desktop\\\\transition\\\\res_trans_1024_test\\\\trans_10\\\\trans_256_1\\\\trans_256_res_id_10',\n",
       " 'C:\\\\Users\\\\Usuario\\\\Desktop\\\\transition\\\\res_trans_1024_test\\\\trans_10\\\\trans_256_1\\\\trans_256_res_id_11',\n",
       " 'C:\\\\Users\\\\Usuario\\\\Desktop\\\\transition\\\\res_trans_1024_test\\\\trans_10\\\\trans_256_1\\\\trans_256_res_id_12',\n",
       " 'C:\\\\Users\\\\Usuario\\\\Desktop\\\\transition\\\\res_trans_1024_test\\\\trans_10\\\\trans_256_1\\\\trans_256_res_id_13',\n",
       " 'C:\\\\Users\\\\Usuario\\\\Desktop\\\\transition\\\\res_trans_1024_test\\\\trans_10\\\\trans_256_1\\\\trans_256_res_id_14',\n",
       " 'C:\\\\Users\\\\Usuario\\\\Desktop\\\\transition\\\\res_trans_1024_test\\\\trans_10\\\\trans_256_1\\\\trans_256_res_id_15',\n",
       " 'C:\\\\Users\\\\Usuario\\\\Desktop\\\\transition\\\\res_trans_1024_test\\\\trans_10\\\\trans_256_1\\\\trans_256_res_id_16',\n",
       " 'C:\\\\Users\\\\Usuario\\\\Desktop\\\\transition\\\\res_trans_1024_test\\\\trans_10\\\\trans_256_1\\\\trans_256_res_id_17',\n",
       " 'C:\\\\Users\\\\Usuario\\\\Desktop\\\\transition\\\\res_trans_1024_test\\\\trans_10\\\\trans_256_1\\\\trans_256_res_id_18',\n",
       " 'C:\\\\Users\\\\Usuario\\\\Desktop\\\\transition\\\\res_trans_1024_test\\\\trans_10\\\\trans_256_1\\\\trans_256_res_id_19',\n",
       " 'C:\\\\Users\\\\Usuario\\\\Desktop\\\\transition\\\\res_trans_1024_test\\\\trans_10\\\\trans_256_1\\\\trans_256_res_id_2',\n",
       " 'C:\\\\Users\\\\Usuario\\\\Desktop\\\\transition\\\\res_trans_1024_test\\\\trans_10\\\\trans_256_1\\\\trans_256_res_id_20',\n",
       " 'C:\\\\Users\\\\Usuario\\\\Desktop\\\\transition\\\\res_trans_1024_test\\\\trans_10\\\\trans_256_1\\\\trans_256_res_id_3',\n",
       " 'C:\\\\Users\\\\Usuario\\\\Desktop\\\\transition\\\\res_trans_1024_test\\\\trans_10\\\\trans_256_1\\\\trans_256_res_id_4',\n",
       " 'C:\\\\Users\\\\Usuario\\\\Desktop\\\\transition\\\\res_trans_1024_test\\\\trans_10\\\\trans_256_1\\\\trans_256_res_id_5',\n",
       " 'C:\\\\Users\\\\Usuario\\\\Desktop\\\\transition\\\\res_trans_1024_test\\\\trans_10\\\\trans_256_1\\\\trans_256_res_id_6',\n",
       " 'C:\\\\Users\\\\Usuario\\\\Desktop\\\\transition\\\\res_trans_1024_test\\\\trans_10\\\\trans_256_1\\\\trans_256_res_id_7',\n",
       " 'C:\\\\Users\\\\Usuario\\\\Desktop\\\\transition\\\\res_trans_1024_test\\\\trans_10\\\\trans_256_1\\\\trans_256_res_id_8',\n",
       " 'C:\\\\Users\\\\Usuario\\\\Desktop\\\\transition\\\\res_trans_1024_test\\\\trans_10\\\\trans_256_1\\\\trans_256_res_id_9']"
      ]
     },
     "execution_count": 47,
     "metadata": {},
     "output_type": "execute_result"
    }
   ],
   "source": [
    "# Conjunto de imágenes \n",
    "filename_list"
   ]
  },
  {
   "cell_type": "code",
   "execution_count": 48,
   "id": "0a027a9e",
   "metadata": {},
   "outputs": [
    {
     "data": {
      "text/plain": [
       "['C:\\\\Users\\\\Usuario\\\\Desktop\\\\transition\\\\res',\n",
       " 'trans',\n",
       " '1024',\n",
       " 'test\\\\trans',\n",
       " '10\\\\trans',\n",
       " '256',\n",
       " '1\\\\trans',\n",
       " '256',\n",
       " 'res',\n",
       " 'id',\n",
       " '0']"
      ]
     },
     "execution_count": 48,
     "metadata": {},
     "output_type": "execute_result"
    }
   ],
   "source": [
    "# Dividir nombre\n",
    "filename_list[0].split('_',12)"
   ]
  },
  {
   "cell_type": "code",
   "execution_count": 49,
   "id": "becfe1d3",
   "metadata": {},
   "outputs": [],
   "source": [
    "# Ordenar\n",
    "filename_list = sorted(filename_list, key=lambda x: int(x.split('_', 12)[-1]))"
   ]
  },
  {
   "cell_type": "code",
   "execution_count": 50,
   "id": "ff120106",
   "metadata": {
    "scrolled": true
   },
   "outputs": [
    {
     "data": {
      "text/plain": [
       "['C:\\\\Users\\\\Usuario\\\\Desktop\\\\transition\\\\res_trans_1024_test\\\\trans_10\\\\trans_256_1\\\\trans_256_res_id_0.png',\n",
       " 'C:\\\\Users\\\\Usuario\\\\Desktop\\\\transition\\\\res_trans_1024_test\\\\trans_10\\\\trans_256_1\\\\trans_256_res_id_1.png',\n",
       " 'C:\\\\Users\\\\Usuario\\\\Desktop\\\\transition\\\\res_trans_1024_test\\\\trans_10\\\\trans_256_1\\\\trans_256_res_id_2.png',\n",
       " 'C:\\\\Users\\\\Usuario\\\\Desktop\\\\transition\\\\res_trans_1024_test\\\\trans_10\\\\trans_256_1\\\\trans_256_res_id_3.png',\n",
       " 'C:\\\\Users\\\\Usuario\\\\Desktop\\\\transition\\\\res_trans_1024_test\\\\trans_10\\\\trans_256_1\\\\trans_256_res_id_4.png',\n",
       " 'C:\\\\Users\\\\Usuario\\\\Desktop\\\\transition\\\\res_trans_1024_test\\\\trans_10\\\\trans_256_1\\\\trans_256_res_id_5.png',\n",
       " 'C:\\\\Users\\\\Usuario\\\\Desktop\\\\transition\\\\res_trans_1024_test\\\\trans_10\\\\trans_256_1\\\\trans_256_res_id_6.png',\n",
       " 'C:\\\\Users\\\\Usuario\\\\Desktop\\\\transition\\\\res_trans_1024_test\\\\trans_10\\\\trans_256_1\\\\trans_256_res_id_7.png',\n",
       " 'C:\\\\Users\\\\Usuario\\\\Desktop\\\\transition\\\\res_trans_1024_test\\\\trans_10\\\\trans_256_1\\\\trans_256_res_id_8.png',\n",
       " 'C:\\\\Users\\\\Usuario\\\\Desktop\\\\transition\\\\res_trans_1024_test\\\\trans_10\\\\trans_256_1\\\\trans_256_res_id_9.png',\n",
       " 'C:\\\\Users\\\\Usuario\\\\Desktop\\\\transition\\\\res_trans_1024_test\\\\trans_10\\\\trans_256_1\\\\trans_256_res_id_10.png',\n",
       " 'C:\\\\Users\\\\Usuario\\\\Desktop\\\\transition\\\\res_trans_1024_test\\\\trans_10\\\\trans_256_1\\\\trans_256_res_id_11.png',\n",
       " 'C:\\\\Users\\\\Usuario\\\\Desktop\\\\transition\\\\res_trans_1024_test\\\\trans_10\\\\trans_256_1\\\\trans_256_res_id_12.png',\n",
       " 'C:\\\\Users\\\\Usuario\\\\Desktop\\\\transition\\\\res_trans_1024_test\\\\trans_10\\\\trans_256_1\\\\trans_256_res_id_13.png',\n",
       " 'C:\\\\Users\\\\Usuario\\\\Desktop\\\\transition\\\\res_trans_1024_test\\\\trans_10\\\\trans_256_1\\\\trans_256_res_id_14.png',\n",
       " 'C:\\\\Users\\\\Usuario\\\\Desktop\\\\transition\\\\res_trans_1024_test\\\\trans_10\\\\trans_256_1\\\\trans_256_res_id_15.png',\n",
       " 'C:\\\\Users\\\\Usuario\\\\Desktop\\\\transition\\\\res_trans_1024_test\\\\trans_10\\\\trans_256_1\\\\trans_256_res_id_16.png',\n",
       " 'C:\\\\Users\\\\Usuario\\\\Desktop\\\\transition\\\\res_trans_1024_test\\\\trans_10\\\\trans_256_1\\\\trans_256_res_id_17.png',\n",
       " 'C:\\\\Users\\\\Usuario\\\\Desktop\\\\transition\\\\res_trans_1024_test\\\\trans_10\\\\trans_256_1\\\\trans_256_res_id_18.png',\n",
       " 'C:\\\\Users\\\\Usuario\\\\Desktop\\\\transition\\\\res_trans_1024_test\\\\trans_10\\\\trans_256_1\\\\trans_256_res_id_19.png',\n",
       " 'C:\\\\Users\\\\Usuario\\\\Desktop\\\\transition\\\\res_trans_1024_test\\\\trans_10\\\\trans_256_1\\\\trans_256_res_id_20.png']"
      ]
     },
     "execution_count": 50,
     "metadata": {},
     "output_type": "execute_result"
    }
   ],
   "source": [
    "# Ordenar según id final de la imagen \n",
    "for i, element in enumerate(filename_list):\n",
    "    filename_list[i] = filename_list[i] + '.png'\n",
    "filename_list"
   ]
  },
  {
   "cell_type": "code",
   "execution_count": 51,
   "id": "3089e609",
   "metadata": {},
   "outputs": [
    {
     "name": "stdout",
     "output_type": "stream",
     "text": [
      "producción de imagen gif completada\n"
     ]
    }
   ],
   "source": [
    "# Crear gif \n",
    "create_gif(filename_list, \"C:\\\\Users\\\\Usuario\\\\Desktop\\\\transition\\\\res_trans_1024_test\\\\trans_10\\\\gif\\\\test_10_256.gif\")"
   ]
  }
 ],
 "metadata": {
  "kernelspec": {
   "display_name": "Python 3",
   "language": "python",
   "name": "python3"
  },
  "language_info": {
   "codemirror_mode": {
    "name": "ipython",
    "version": 3
   },
   "file_extension": ".py",
   "mimetype": "text/x-python",
   "name": "python",
   "nbconvert_exporter": "python",
   "pygments_lexer": "ipython3",
   "version": "3.6.15"
  }
 },
 "nbformat": 4,
 "nbformat_minor": 5
}
